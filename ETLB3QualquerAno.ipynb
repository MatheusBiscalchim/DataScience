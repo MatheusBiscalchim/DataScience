{
  "nbformat": 4,
  "nbformat_minor": 0,
  "metadata": {
    "colab": {
      "provenance": []
    },
    "kernelspec": {
      "name": "python3",
      "display_name": "Python 3"
    },
    "language_info": {
      "name": "python"
    }
  },
  "cells": [
    {
      "cell_type": "markdown",
      "source": [
        "###### Para executar esse script você precisa ir ao site da bovespa e pegar algumas bases de dados históricas do ano que você desejar, no momento da criação desse script eram encontradas neste link (https://www.b3.com.br/pt_br/market-data-e-indices/servicos-de-dados/market-data/historico/mercado-a-vista/series-historicas/) ou pode se pesquisar bovespa bases de dados históricas no google. Após isso carregue os arquivos para o google collab clicando no icone a esquerda que se parece com uma pasta e se chama 'files' e então clique no icone que contêm uma pasta com uma flecha para cima e selecione os arquivos no diretório de sua máquina, espere os arquivo serem totalmente carregados e rode o script."
      ],
      "metadata": {
        "id": "qRDTE-uPA3Dx"
      }
    },
    {
      "cell_type": "code",
      "source": [
        "import pandas as pd\n",
        "!pip install fsspec"
      ],
      "metadata": {
        "colab": {
          "base_uri": "https://localhost:8080/"
        },
        "id": "bkn-Lilb1W5-",
        "outputId": "a062fa80-bd20-4f94-9d61-542a676cf128"
      },
      "execution_count": null,
      "outputs": [
        {
          "output_type": "stream",
          "name": "stdout",
          "text": [
            "Looking in indexes: https://pypi.org/simple, https://us-python.pkg.dev/colab-wheels/public/simple/\n",
            "Requirement already satisfied: fsspec in /usr/local/lib/python3.7/dist-packages (2022.7.1)\n"
          ]
        }
      ]
    },
    {
      "cell_type": "code",
      "source": [
        "def read_files(path, name_file, year_date, type_file):\n",
        "  \n",
        "  _file = f'{path}{name_file}{year_date}.{type_file}'\n",
        "\n",
        "  colspecs = [(2,10),\n",
        "              (10,12),\n",
        "              (12,24),\n",
        "              (27,39),\n",
        "              (56,69),\n",
        "              (69,82),\n",
        "              (82,95),\n",
        "              (108,121),\n",
        "              (152,170),\n",
        "              (170,188)\n",
        "  ]\n",
        "\n",
        "  names = ['data_pregao','codbdi','sigla_acao','nome_acao','preco_abertura','preco_maximo','preco_minimo',\n",
        "          'preco_fechamento','qtd_negocios','volume_negocios']\n",
        "\n",
        "  df = pd.read_fwf(_file, colspecs = colspecs, names = names, skiprows = 1 )\n",
        " \n",
        "  return df"
      ],
      "metadata": {
        "id": "Xq4e9oXO17GG"
      },
      "execution_count": null,
      "outputs": []
    },
    {
      "cell_type": "code",
      "source": [
        "# Filtrando ações do lote padrão(2)\n",
        "def filter_stocks(df):\n",
        "  df = df [df['codbdi'] == 2]\n",
        "  df = df.drop(['codbdi'],1)\n",
        "  return df"
      ],
      "metadata": {
        "id": "wl7a7-rowMba"
      },
      "execution_count": null,
      "outputs": []
    },
    {
      "cell_type": "code",
      "source": [
        "# Ajuste campo de data\n",
        "def parse_date(df):\n",
        "  df['data_pregao'] = pd.to_datetime(df['data_pregao'], format = '%Y%m%d')\n",
        "  return df"
      ],
      "metadata": {
        "id": "gZBNFnta0BDd"
      },
      "execution_count": null,
      "outputs": []
    },
    {
      "cell_type": "code",
      "source": [
        "# Ajuste dos campos numéricos \n",
        "def parse_values(df):\n",
        "  df['preco_abertura'] = (df['preco_abertura']/100).astype(float)\n",
        "  df['preco_maximo'] = (df['preco_maximo']/100).astype(float)\n",
        "  df['preco_minimo'] = (df['preco_minimo']/100).astype(float)\n",
        "  df['preco_fechamento'] = (df['preco_fechamento']/100).astype(float)\n",
        "  \n",
        "  return df"
      ],
      "metadata": {
        "id": "sGJytG_e0sX_"
      },
      "execution_count": null,
      "outputs": []
    },
    {
      "cell_type": "code",
      "source": [
        "# Juntando os arquivos\n",
        "\n",
        "def concat_files(path, name_file, year_date, type_file, final_file):\n",
        "\n",
        "  for i, y in enumerate(year_date):\n",
        "    df = read_files(path, name_file, y, type_file)\n",
        "    df = filter_stocks(df)\n",
        "    df = parse_date(df)\n",
        "    df = parse_values(df)\n",
        "\n",
        "    if i==0:\n",
        "      df_final = df\n",
        "    else:\n",
        "      df_final = pd.concat([df_final, df])\n",
        "\n",
        "  df_final.to_csv(f'{path}//{final_file}', index= False)"
      ],
      "metadata": {
        "id": "4AiXOoXW1KyA"
      },
      "execution_count": null,
      "outputs": []
    },
    {
      "cell_type": "markdown",
      "source": [
        "###### Após carregar as bases de dados dos anos selecionados no site da bovespa, digite separado por virgulas e entre aspas os valores dos anos dos arquivos na várivavel year_date"
      ],
      "metadata": {
        "id": "_c7Dx65ZCn3W"
      }
    },
    {
      "cell_type": "code",
      "source": [
        "# Executando script\n",
        "year_date = ['2018','2019','2020']\n",
        "\n",
        "path ='/content/'\n",
        "\n",
        "name_file = 'COTAHIST_A'\n",
        "\n",
        "type_file = 'TXT'\n",
        "\n",
        "final_file = 'all_bovespa.csv'\n",
        "\n",
        "concat_files(path, name_file, year_date, type_file, final_file)"
      ],
      "metadata": {
        "colab": {
          "base_uri": "https://localhost:8080/"
        },
        "id": "U3PvdM2J1O3f",
        "outputId": "5df8422a-f609-4f14-be70-456733232a13"
      },
      "execution_count": null,
      "outputs": [
        {
          "output_type": "stream",
          "name": "stderr",
          "text": [
            "/usr/local/lib/python3.7/dist-packages/ipykernel_launcher.py:4: FutureWarning: In a future version of pandas all arguments of DataFrame.drop except for the argument 'labels' will be keyword-only\n",
            "  after removing the cwd from sys.path.\n"
          ]
        }
      ]
    },
    {
      "cell_type": "markdown",
      "source": [
        "###### Para fazer o download do arquivo após o processo de ETL só clicar novamente no icone 'files' clicar em cima do arquivo 'all_bovespa.csv' com o botão direito e selecionar o download"
      ],
      "metadata": {
        "id": "nknCu_2KCNc-"
      }
    }
  ]
}